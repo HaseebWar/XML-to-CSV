{
 "cells": [
  {
   "cell_type": "code",
   "execution_count": 1,
   "id": "65f8975b",
   "metadata": {},
   "outputs": [],
   "source": [
    "# Importing the required libraries\n",
    "import xml.etree.ElementTree as Xet\n",
    "import pandas as pd\n",
    "\n",
    "cols = [\"name\", \"phone\", \"email\", \"date\", \"country\"]\n",
    "rows = []\n",
    "\n",
    "# Parsing the XML file\n",
    "xmlparse = Xet.parse('sample.xml')\n",
    "root = xmlparse.getroot()\n",
    "for i in root:\n",
    "\tname = i.find(\"name\").text\n",
    "\tphone = i.find(\"phone\").text\n",
    "\temail = i.find(\"email\").text\n",
    "\tdate = i.find(\"date\").text\n",
    "\tcountry = i.find(\"country\").text\n",
    "\n",
    "\trows.append({\"name\": name,\n",
    "\t\t\t\t\"phone\": phone,\n",
    "\t\t\t\t\"email\": email,\n",
    "\t\t\t\t\"date\": date,\n",
    "\t\t\t\t\"country\": country})\n",
    "\n",
    "df = pd.DataFrame(rows, columns=cols)\n",
    "\n",
    "# Writing dataframe to csv\n",
    "df.to_csv('output.csv')\n"
   ]
  },
  {
   "cell_type": "code",
   "execution_count": null,
   "id": "65c2b4c7",
   "metadata": {},
   "outputs": [],
   "source": []
  }
 ],
 "metadata": {
  "kernelspec": {
   "display_name": "Python 3",
   "language": "python",
   "name": "python3"
  },
  "language_info": {
   "codemirror_mode": {
    "name": "ipython",
    "version": 3
   },
   "file_extension": ".py",
   "mimetype": "text/x-python",
   "name": "python",
   "nbconvert_exporter": "python",
   "pygments_lexer": "ipython3",
   "version": "3.8.8"
  }
 },
 "nbformat": 4,
 "nbformat_minor": 5
}
